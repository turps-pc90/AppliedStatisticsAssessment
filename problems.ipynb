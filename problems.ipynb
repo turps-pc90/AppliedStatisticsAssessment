{
 "cells": [
  {
   "cell_type": "markdown",
   "id": "d32f3e8a",
   "metadata": {},
   "source": [
    "# Applied Statistics Project\n",
    "## Population Decline In The West of Ireland"
   ]
  }
 ],
 "metadata": {
  "language_info": {
   "name": "python"
  }
 },
 "nbformat": 4,
 "nbformat_minor": 5
}
