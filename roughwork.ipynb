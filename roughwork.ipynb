{
 "cells": [
  {
   "cell_type": "code",
   "execution_count": 1,
   "id": "f66963f4",
   "metadata": {},
   "outputs": [],
   "source": [
    "# Library Imports\n",
    "import pandas as pd"
   ]
  },
  {
   "cell_type": "code",
   "execution_count": 2,
   "id": "b1685de3",
   "metadata": {},
   "outputs": [],
   "source": [
    "# Data Source\n",
    "df = pd.read_csv('files/PopulationByCounty1841-2022.csv')"
   ]
  },
  {
   "cell_type": "code",
   "execution_count": 4,
   "id": "9ec743e7",
   "metadata": {},
   "outputs": [
    {
     "data": {
      "text/html": [
       "<div>\n",
       "<style scoped>\n",
       "    .dataframe tbody tr th:only-of-type {\n",
       "        vertical-align: middle;\n",
       "    }\n",
       "\n",
       "    .dataframe tbody tr th {\n",
       "        vertical-align: top;\n",
       "    }\n",
       "\n",
       "    .dataframe thead th {\n",
       "        text-align: right;\n",
       "    }\n",
       "</style>\n",
       "<table border=\"1\" class=\"dataframe\">\n",
       "  <thead>\n",
       "    <tr style=\"text-align: right;\">\n",
       "      <th></th>\n",
       "      <th>Statistic Label</th>\n",
       "      <th>CensusYear</th>\n",
       "      <th>County</th>\n",
       "      <th>Sex</th>\n",
       "      <th>UNIT</th>\n",
       "      <th>VALUE</th>\n",
       "    </tr>\n",
       "  </thead>\n",
       "  <tbody>\n",
       "    <tr>\n",
       "      <th>0</th>\n",
       "      <td>Population at Each Census</td>\n",
       "      <td>1841</td>\n",
       "      <td>State</td>\n",
       "      <td>Both sexes</td>\n",
       "      <td>Number</td>\n",
       "      <td>6528799</td>\n",
       "    </tr>\n",
       "    <tr>\n",
       "      <th>1</th>\n",
       "      <td>Population at Each Census</td>\n",
       "      <td>1841</td>\n",
       "      <td>State</td>\n",
       "      <td>Male</td>\n",
       "      <td>Number</td>\n",
       "      <td>3222485</td>\n",
       "    </tr>\n",
       "    <tr>\n",
       "      <th>2</th>\n",
       "      <td>Population at Each Census</td>\n",
       "      <td>1841</td>\n",
       "      <td>State</td>\n",
       "      <td>Female</td>\n",
       "      <td>Number</td>\n",
       "      <td>3306314</td>\n",
       "    </tr>\n",
       "    <tr>\n",
       "      <th>3</th>\n",
       "      <td>Population at Each Census</td>\n",
       "      <td>1841</td>\n",
       "      <td>Carlow</td>\n",
       "      <td>Both sexes</td>\n",
       "      <td>Number</td>\n",
       "      <td>86228</td>\n",
       "    </tr>\n",
       "    <tr>\n",
       "      <th>4</th>\n",
       "      <td>Population at Each Census</td>\n",
       "      <td>1841</td>\n",
       "      <td>Carlow</td>\n",
       "      <td>Male</td>\n",
       "      <td>Number</td>\n",
       "      <td>42428</td>\n",
       "    </tr>\n",
       "  </tbody>\n",
       "</table>\n",
       "</div>"
      ],
      "text/plain": [
       "             Statistic Label  CensusYear  County         Sex    UNIT    VALUE\n",
       "0  Population at Each Census        1841   State  Both sexes  Number  6528799\n",
       "1  Population at Each Census        1841   State        Male  Number  3222485\n",
       "2  Population at Each Census        1841   State      Female  Number  3306314\n",
       "3  Population at Each Census        1841  Carlow  Both sexes  Number    86228\n",
       "4  Population at Each Census        1841  Carlow        Male  Number    42428"
      ]
     },
     "execution_count": 4,
     "metadata": {},
     "output_type": "execute_result"
    }
   ],
   "source": [
    "# Printing data to test\n",
    "df.head()"
   ]
  },
  {
   "cell_type": "markdown",
   "id": "5e4bce72",
   "metadata": {},
   "source": [
    "### Note:\n",
    "Next step is to convert this df to "
   ]
  },
  {
   "cell_type": "code",
   "execution_count": null,
   "id": "aa4ed2ef",
   "metadata": {},
   "outputs": [],
   "source": []
  }
 ],
 "metadata": {
  "kernelspec": {
   "display_name": "Python 3",
   "language": "python",
   "name": "python3"
  },
  "language_info": {
   "codemirror_mode": {
    "name": "ipython",
    "version": 3
   },
   "file_extension": ".py",
   "mimetype": "text/x-python",
   "name": "python",
   "nbconvert_exporter": "python",
   "pygments_lexer": "ipython3",
   "version": "3.12.1"
  }
 },
 "nbformat": 4,
 "nbformat_minor": 5
}
